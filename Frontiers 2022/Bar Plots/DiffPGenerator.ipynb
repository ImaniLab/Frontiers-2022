{
 "cells": [
  {
   "cell_type": "code",
   "execution_count": 10,
   "metadata": {},
   "outputs": [],
   "source": [
    "# 10 Gene Network, 10 indices unknown\n",
    "\n",
    "import numpy\n",
    "import numpy as np\n",
    "from itertools import product\n",
    "import pickle\n",
    "from scipy.stats import norm\n",
    "import pickle\n",
    "import random\n",
    "\n",
    "from sklearn.gaussian_process import GaussianProcessRegressor\n",
    "from sklearn.gaussian_process.kernels import ConstantKernel, RBF\n",
    "\n",
    "from AFs import knowledge_gradient, expected_improvement, probability_of_improvement, maxvalue_entropy_search, upper_confidence_bound\n",
    "\n",
    "from time import time\n",
    "\n",
    "# # Generating Connectivity Matrix\n",
    "\n",
    "OptimalC = np.array(np.mat('+1 -1 -1 0 0 0 0 0 0 0;'\n",
    "                           '0 0 0 -1 -1 -1 0 0 0 0;'\n",
    "                           '0 +1 +1 +1 +1 0 0 +1 0 0;'\n",
    "                           '0 0 0 0 +1 +1 0 0 0 0;'\n",
    "                           '0 -1 -1 0 -1 0 0 0 0 0;'\n",
    "                           '0 -1 -1 -1 -1 +1 0 -1 +1 0;'\n",
    "                           '0 0 0 0 0 -1 0 +1 +1 -1;'\n",
    "                           '0 0 0 0 0 -1 -1 0 -1 -1;'\n",
    "                           '0 0 0 0 0 -1 0 0 +1 0;'\n",
    "                           '0 -1 -1 -1 0 0 +1 -1 +1 0').T) # true #Transpose!!!!\n",
    "\n",
    "OptimalCVector = numpy.reshape(OptimalC,(1,10*10))\n",
    "\n",
    "#Generating x\n",
    "dim = 100\n",
    "number_of_states = 10\n",
    "x = np.array(np.zeros((number_of_states, dim)).T)\n",
    "# initial x0\n",
    "x[0, :] = np.array([0, 0, 1, 0, 1, 1, 0, 0, 1, 1])\n",
    "\n",
    "\n",
    "for i in range(dim-1):\n",
    "    xtemp = np.atleast_2d(x[i, :])\n",
    "    b = np.random.binomial(1, 0.01, size=(1, number_of_states))  # it works but numpy website says update with new code\n",
    "    x[i+1, :] = (np.matmul(xtemp, (OptimalC.T)) > 0)\n",
    "    x[i+1, :] = 1 * np.logical_xor(x[i+1, :], b) # *1 is for converting bool to int\n",
    "\n",
    "# Saving the objects:\n",
    "with open('OBSGRNVals10GeneB12100Samples9.pkl', 'wb') as f:  # Python 3: open(..., 'wb')\n",
    "    pickle.dump(x, f)"
   ]
  },
  {
   "cell_type": "code",
   "execution_count": null,
   "metadata": {},
   "outputs": [],
   "source": []
  },
  {
   "cell_type": "code",
   "execution_count": null,
   "metadata": {},
   "outputs": [],
   "source": []
  }
 ],
 "metadata": {
  "kernelspec": {
   "display_name": "Python 3",
   "language": "python",
   "name": "python3"
  },
  "language_info": {
   "codemirror_mode": {
    "name": "ipython",
    "version": 3
   },
   "file_extension": ".py",
   "mimetype": "text/x-python",
   "name": "python",
   "nbconvert_exporter": "python",
   "pygments_lexer": "ipython3",
   "version": "3.8.1"
  }
 },
 "nbformat": 4,
 "nbformat_minor": 4
}
