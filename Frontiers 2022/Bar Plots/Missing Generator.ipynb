{
 "cells": [
  {
   "cell_type": "code",
   "execution_count": 71,
   "metadata": {},
   "outputs": [],
   "source": [
    "\n",
    "import numpy\n",
    "import numpy as np\n",
    "from itertools import product\n",
    "import pickle\n",
    "from scipy.stats import norm\n",
    "import pickle\n",
    "import random\n",
    "\n",
    "from sklearn.gaussian_process import GaussianProcessRegressor\n",
    "from sklearn.gaussian_process.kernels import ConstantKernel, RBF\n",
    "\n",
    "# from AFs import knowledge_gradient, expected_improvement, probability_of_improvement, maxvalue_entropy_search, upper_confidence_bound\n",
    "\n",
    "from time import time\n",
    "\n",
    "import random\n",
    "\n",
    "\n",
    "# np.random.seed(4)\n",
    "MissingData = np.random.choice(np.arange(0,99,1), size=0, replace=False) #Unique random Vals\n",
    "# len(numbers)==numbers.nunique() # Testing Uniqueness\n",
    "\n",
    "with open('0MissingData10.pkl', 'wb') as f:  # Python 3: open(..., 'wb')\n",
    "    pickle.dump(MissingData, f)"
   ]
  },
  {
   "cell_type": "code",
   "execution_count": null,
   "metadata": {},
   "outputs": [],
   "source": []
  }
 ],
 "metadata": {
  "kernelspec": {
   "display_name": "Python 3",
   "language": "python",
   "name": "python3"
  },
  "language_info": {
   "codemirror_mode": {
    "name": "ipython",
    "version": 3
   },
   "file_extension": ".py",
   "mimetype": "text/x-python",
   "name": "python",
   "nbconvert_exporter": "python",
   "pygments_lexer": "ipython3",
   "version": "3.8.1"
  }
 },
 "nbformat": 4,
 "nbformat_minor": 4
}
