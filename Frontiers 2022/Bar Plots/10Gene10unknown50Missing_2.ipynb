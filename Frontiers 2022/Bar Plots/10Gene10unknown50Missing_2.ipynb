{
 "cells": [
  {
   "cell_type": "code",
   "execution_count": 4,
   "metadata": {},
   "outputs": [
    {
     "name": "stdout",
     "output_type": "stream",
     "text": [
      "0\n",
      "1\n",
      "2\n",
      "3\n",
      "4\n",
      "5\n",
      "6\n",
      "7\n",
      "8\n",
      "9\n",
      "10\n",
      "11\n",
      "12\n",
      "13\n",
      "14\n",
      "15\n",
      "16\n",
      "17\n",
      "18\n",
      "19\n",
      "20\n",
      "21\n",
      "22\n",
      "23\n",
      "24\n",
      "25\n",
      "26\n",
      "27\n",
      "28\n",
      "29\n",
      "30\n",
      "31\n",
      "32\n",
      "33\n",
      "34\n",
      "35\n",
      "36\n",
      "37\n",
      "38\n",
      "39\n",
      "40\n",
      "41\n",
      "42\n",
      "43\n",
      "44\n",
      "45\n",
      "46\n",
      "47\n",
      "48\n",
      "49\n",
      "50\n",
      "51\n",
      "52\n",
      "53\n",
      "54\n",
      "55\n",
      "56\n",
      "57\n",
      "58\n",
      "59\n",
      "60\n",
      "61\n",
      "62\n",
      "63\n",
      "64\n",
      "65\n"
     ]
    },
    {
     "name": "stderr",
     "output_type": "stream",
     "text": [
      "/home/alali.m/.conda/envs/BOGRNTesting/lib/python3.8/site-packages/sklearn/gaussian_process/_gpr.py:362: UserWarning: Predicted variances smaller than 0. Setting those variances to 0.\n",
      "  warnings.warn(\"Predicted variances smaller than 0. \"\n"
     ]
    },
    {
     "name": "stdout",
     "output_type": "stream",
     "text": [
      "66\n",
      "67\n",
      "68\n"
     ]
    },
    {
     "name": "stderr",
     "output_type": "stream",
     "text": [
      "/home/alali.m/.conda/envs/BOGRNTesting/lib/python3.8/site-packages/sklearn/gaussian_process/_gpr.py:362: UserWarning: Predicted variances smaller than 0. Setting those variances to 0.\n",
      "  warnings.warn(\"Predicted variances smaller than 0. \"\n"
     ]
    },
    {
     "name": "stdout",
     "output_type": "stream",
     "text": [
      "69\n"
     ]
    },
    {
     "name": "stderr",
     "output_type": "stream",
     "text": [
      "/home/alali.m/.conda/envs/BOGRNTesting/lib/python3.8/site-packages/sklearn/gaussian_process/_gpr.py:362: UserWarning: Predicted variances smaller than 0. Setting those variances to 0.\n",
      "  warnings.warn(\"Predicted variances smaller than 0. \"\n"
     ]
    },
    {
     "name": "stdout",
     "output_type": "stream",
     "text": [
      "70\n"
     ]
    },
    {
     "name": "stderr",
     "output_type": "stream",
     "text": [
      "/home/alali.m/.conda/envs/BOGRNTesting/lib/python3.8/site-packages/sklearn/gaussian_process/_gpr.py:362: UserWarning: Predicted variances smaller than 0. Setting those variances to 0.\n",
      "  warnings.warn(\"Predicted variances smaller than 0. \"\n"
     ]
    },
    {
     "name": "stdout",
     "output_type": "stream",
     "text": [
      "71\n",
      "72\n",
      "73\n",
      "74\n"
     ]
    },
    {
     "name": "stderr",
     "output_type": "stream",
     "text": [
      "/home/alali.m/.conda/envs/BOGRNTesting/lib/python3.8/site-packages/sklearn/gaussian_process/_gpr.py:362: UserWarning: Predicted variances smaller than 0. Setting those variances to 0.\n",
      "  warnings.warn(\"Predicted variances smaller than 0. \"\n"
     ]
    },
    {
     "name": "stdout",
     "output_type": "stream",
     "text": [
      "75\n"
     ]
    },
    {
     "name": "stderr",
     "output_type": "stream",
     "text": [
      "/home/alali.m/.conda/envs/BOGRNTesting/lib/python3.8/site-packages/sklearn/gaussian_process/_gpr.py:362: UserWarning: Predicted variances smaller than 0. Setting those variances to 0.\n",
      "  warnings.warn(\"Predicted variances smaller than 0. \"\n"
     ]
    },
    {
     "name": "stdout",
     "output_type": "stream",
     "text": [
      "76\n",
      "77\n",
      "78\n",
      "79\n"
     ]
    },
    {
     "name": "stderr",
     "output_type": "stream",
     "text": [
      "/home/alali.m/.conda/envs/BOGRNTesting/lib/python3.8/site-packages/sklearn/gaussian_process/_gpr.py:362: UserWarning: Predicted variances smaller than 0. Setting those variances to 0.\n",
      "  warnings.warn(\"Predicted variances smaller than 0. \"\n"
     ]
    },
    {
     "name": "stdout",
     "output_type": "stream",
     "text": [
      "80\n",
      "81\n",
      "82\n",
      "83\n"
     ]
    },
    {
     "name": "stderr",
     "output_type": "stream",
     "text": [
      "/home/alali.m/.conda/envs/BOGRNTesting/lib/python3.8/site-packages/sklearn/gaussian_process/_gpr.py:362: UserWarning: Predicted variances smaller than 0. Setting those variances to 0.\n",
      "  warnings.warn(\"Predicted variances smaller than 0. \"\n"
     ]
    },
    {
     "name": "stdout",
     "output_type": "stream",
     "text": [
      "84\n",
      "85\n",
      "86\n",
      "87\n"
     ]
    },
    {
     "name": "stderr",
     "output_type": "stream",
     "text": [
      "/home/alali.m/.conda/envs/BOGRNTesting/lib/python3.8/site-packages/sklearn/gaussian_process/_gpr.py:362: UserWarning: Predicted variances smaller than 0. Setting those variances to 0.\n",
      "  warnings.warn(\"Predicted variances smaller than 0. \"\n"
     ]
    },
    {
     "name": "stdout",
     "output_type": "stream",
     "text": [
      "88\n",
      "89\n",
      "90\n",
      "91\n",
      "92\n"
     ]
    },
    {
     "name": "stderr",
     "output_type": "stream",
     "text": [
      "/home/alali.m/.conda/envs/BOGRNTesting/lib/python3.8/site-packages/sklearn/gaussian_process/_gpr.py:362: UserWarning: Predicted variances smaller than 0. Setting those variances to 0.\n",
      "  warnings.warn(\"Predicted variances smaller than 0. \"\n"
     ]
    },
    {
     "name": "stdout",
     "output_type": "stream",
     "text": [
      "93\n"
     ]
    },
    {
     "name": "stderr",
     "output_type": "stream",
     "text": [
      "/home/alali.m/.conda/envs/BOGRNTesting/lib/python3.8/site-packages/sklearn/gaussian_process/_gpr.py:362: UserWarning: Predicted variances smaller than 0. Setting those variances to 0.\n",
      "  warnings.warn(\"Predicted variances smaller than 0. \"\n"
     ]
    },
    {
     "name": "stdout",
     "output_type": "stream",
     "text": [
      "94\n",
      "95\n",
      "96\n",
      "97\n"
     ]
    },
    {
     "name": "stderr",
     "output_type": "stream",
     "text": [
      "/home/alali.m/.conda/envs/BOGRNTesting/lib/python3.8/site-packages/sklearn/gaussian_process/_gpr.py:362: UserWarning: Predicted variances smaller than 0. Setting those variances to 0.\n",
      "  warnings.warn(\"Predicted variances smaller than 0. \"\n"
     ]
    },
    {
     "name": "stdout",
     "output_type": "stream",
     "text": [
      "98\n"
     ]
    },
    {
     "name": "stderr",
     "output_type": "stream",
     "text": [
      "/home/alali.m/.conda/envs/BOGRNTesting/lib/python3.8/site-packages/sklearn/gaussian_process/_gpr.py:362: UserWarning: Predicted variances smaller than 0. Setting those variances to 0.\n",
      "  warnings.warn(\"Predicted variances smaller than 0. \"\n"
     ]
    },
    {
     "name": "stdout",
     "output_type": "stream",
     "text": [
      "99\n",
      "It took 1367.6683676242828 seconds!\n"
     ]
    }
   ],
   "source": [
    "# 10 Gene Network, 10 indices unknown\n",
    "\n",
    "import numpy\n",
    "import numpy as np\n",
    "from itertools import product\n",
    "import pickle\n",
    "from scipy.stats import norm\n",
    "import pickle\n",
    "import random\n",
    "\n",
    "from sklearn.gaussian_process import GaussianProcessRegressor\n",
    "from sklearn.gaussian_process.kernels import ConstantKernel, RBF\n",
    "\n",
    "from AFs import knowledge_gradient, expected_improvement, probability_of_improvement, maxvalue_entropy_search, upper_confidence_bound\n",
    "\n",
    "from time import time\n",
    "\n",
    "# # Generating Connectivity Matrix\n",
    "#\n",
    "# combs = product(range(3), repeat=10)\n",
    "# Combinations = numpy.array(list(combs))-1\n",
    "#\n",
    "# ConnectivitySpace = numpy.zeros((59049, 10*10))\n",
    "#\n",
    "OptimalC = np.array(np.mat('+1 -1 -1 0 0 0 0 0 0 0;'\n",
    "                           '0 0 0 -1 -1 -1 0 0 0 0;'\n",
    "                           '0 +1 +1 +1 +1 0 0 +1 0 0;'\n",
    "                           '0 0 0 0 +1 +1 0 0 0 0;'\n",
    "                           '0 -1 -1 0 -1 0 0 0 0 0;'\n",
    "                           '0 -1 -1 -1 -1 +1 0 -1 +1 0;'\n",
    "                           '0 0 0 0 0 -1 0 +1 +1 -1;'\n",
    "                           '0 0 0 0 0 -1 -1 0 -1 -1;'\n",
    "                           '0 0 0 0 0 -1 0 0 +1 0;'\n",
    "                           '0 -1 -1 -1 0 0 +1 -1 +1 0').T) # true #Transpose!!!!\n",
    "\n",
    "OptimalCVector = numpy.reshape(OptimalC,(1,10*10))\n",
    "#\n",
    "# # for i in range(59049):\n",
    "# #\n",
    "# #         temp = OptimalCVector\n",
    "# #\n",
    "# #         temp[0, (2 - 1) * 10 + 1 - 1] = Combinations[i, 0]\n",
    "# #         temp[0, (4 - 1) * 10 + 2 - 1] = Combinations[i, 1]\n",
    "# #         temp[0, (8 - 1) * 10 + 3 - 1] = Combinations[i, 2]\n",
    "# #         temp[0, (5 - 1) * 10 + 4 - 1] = Combinations[i, 3]\n",
    "# #         temp[0, (3 - 1) * 10 + 5 - 1] = Combinations[i, 4]\n",
    "# #         temp[0, (9 - 1) * 10 + 6 - 1] = Combinations[i, 5]\n",
    "# #         temp[0, (6 - 1) * 10 + 7 - 1] = Combinations[i, 6]\n",
    "# #         temp[0, (9 - 1) * 10 + 8 - 1] = Combinations[i, 7]\n",
    "# #         temp[0, (6 - 1) * 10 + 9 - 1] = Combinations[i, 8]\n",
    "# #         temp[0, (3 - 1) * 10 + 10 - 1] = Combinations[i, 9]\n",
    "# #\n",
    "# #         ConnectivitySpace[i,:] = temp\n",
    "#\n",
    "#\n",
    "# ConnectivitySpace[0,:] = OptimalCVector\n",
    "\n",
    "# #Generating x\n",
    "# dim = 100\n",
    "# number_of_states = 10\n",
    "# x = np.array(np.zeros((number_of_states, dim)).T)\n",
    "# # initial x0\n",
    "# x[0, :] = np.array([0, 0, 1, 0, 1, 1, 0, 0, 1, 1])\n",
    "\n",
    "\n",
    "# for i in range(dim-1):\n",
    "#     xtemp = np.atleast_2d(x[i, :])\n",
    "#     b = np.random.binomial(1, 0.3, size=(1, number_of_states))  # it works but numpy website says update with new code\n",
    "#     x[i+1, :] = (np.matmul(xtemp, (OptimalC.T)) > 0)\n",
    "#     x[i+1, :] = 1 * np.logical_xor(x[i+1, :], b) # *1 is for converting bool to int\n",
    "\n",
    "# # Saving the objects:\n",
    "# with open('OBSGRNVals10GeneB31100Samples.pkl', 'wb') as f:  # Python 3: open(..., 'wb')\n",
    "#     pickle.dump(x, f)\n",
    "\n",
    "# #Saving the objects:\n",
    "# with open('BOValsNewGRN2.pkl', 'wb') as f:  # Python 3: open(..., 'wb')\n",
    "#     pickle.dump(ConnectivitySpace, f)\n",
    "\n",
    "start = time()\n",
    "\n",
    "with open('BOValsNewGRN2.pkl', 'rb') as f:  # Python 3: open(..., 'rb')\n",
    "    ConnectivitySpace = pickle.load(f)\n",
    "\n",
    "with open('OBSGRNVals10GeneB12100Samples2.pkl', 'rb') as f:  # Python 3: open(..., 'rb')\n",
    "    x = pickle.load(f)\n",
    "    \n",
    "with open('50MissingData1.pkl', 'rb') as f:  # Python 3: open(..., 'rb')\n",
    "    MissingData = pickle.load(f)\n",
    "\n",
    "# Generate A\n",
    "\n",
    "combs = product(range(2), repeat=10)\n",
    "\n",
    "combs = list(combs)\n",
    "\n",
    "A = numpy.array(combs)\n",
    "\n",
    "Pvalue = 0.01\n",
    "dna_dsb = np.array(np.mat('0 0 0 0 0 0 0 0 0 0'))\n",
    "myscale = 50\n",
    "xycount = 100\n",
    "\n",
    "# Generate M\n",
    "\n",
    "posterior = (1 / 1024) * np.ones((1, 1024))\n",
    "\n",
    "M = np.array(np.zeros((1024, 1024)).T)\n",
    "\n",
    "combs = product(range(2), repeat=10)\n",
    "\n",
    "numcombs = numpy.array(list(combs))\n",
    "\n",
    "xnew2 = np.array(np.zeros((10, 1)).T)\n",
    "\n",
    "# test a random C\n",
    "\n",
    "randomCIndex = random.choice(range(59049))\n",
    "randomCVector = np.atleast_2d(ConnectivitySpace[randomCIndex,:])\n",
    "randomC = np.reshape(ConnectivitySpace[randomCIndex,:], (10,10))\n",
    "\n",
    "for i in range(1024):\n",
    "    xtemp = np.atleast_2d(numcombs[i, :])\n",
    "    xnew2 = 1 * (np.matmul(xtemp, (randomC).T + dna_dsb) > 0)\n",
    "    # print (xnew2)\n",
    "    for t in range(1024):\n",
    "\n",
    "        xtemp2 = np.atleast_2d(numcombs[t, :])\n",
    "\n",
    "        M[t, i] = 1\n",
    "\n",
    "        for k in range(10):\n",
    "\n",
    "            if xtemp2[0, k] == xnew2[0, k]:\n",
    "                temp1 = 1 - Pvalue\n",
    "            else:\n",
    "                temp1 = Pvalue\n",
    "\n",
    "            M[t, i] = M[t, i] * temp1\n",
    "\n",
    "missflag = 0\n",
    "LogMarginal = 0\n",
    "\n",
    "for i in range(xycount):\n",
    "\n",
    "    if i in MissingData:\n",
    "\n",
    "        pred_posterior = np.matmul(posterior,M.T)\n",
    "        #pred_posterior = pred_posterior / np.sum(pred_posterior)\n",
    "        #print(np.sum(pred_posterior))\n",
    "        # newstate = (newstate) / (np.sum(newstate))\n",
    "        posterior = pred_posterior\n",
    "        #print(np.sum(posterior))\n",
    "\n",
    "    else:\n",
    "\n",
    "        itemindex = np.array((A == x[i, :]).all(axis=1).nonzero())\n",
    "\n",
    "        #LogMarginalTrain = LogMarginalTrain + np.log10(pred_posterior[0, itemindex])\n",
    "        pred_posterior = np.matmul(posterior, M.T)\n",
    "        #pred_posterior = pred_posterior/np.sum(pred_posterior)\n",
    "        #print(np.sum(pred_posterior))\n",
    "        # newstate = (newstate) / (np.sum(newstate))\n",
    "        LogMarginal = LogMarginal + np.log10(pred_posterior[0, itemindex])\n",
    "        # missflag = 0\n",
    "\n",
    "        posterior = numpy.zeros((1,1024))\n",
    "        posterior[0, itemindex] = 1\n",
    "\n",
    "LogMarginalTrain = np.atleast_2d(LogMarginal)\n",
    "\n",
    "\n",
    "kernel = ConstantKernel(0.5 ** 2, (0.000000000000000000000000000000000000000000000000000000000000000000000000000000000000000000000000000000000000000000000000000000000000001, 30.01)) * RBF(12, (0.000001, 40))  # ConstantKernel(400 ** 2, (0.01, 1000)) * RBF(60, (0.01, 100))  #Changed # considering 20 Samples!, Think more about these!!\n",
    "gp = GaussianProcessRegressor(kernel=kernel, n_restarts_optimizer=50, normalize_y=True)\n",
    "\n",
    "gp.fit(randomCVector, LogMarginalTrain)\n",
    "\n",
    "# updated_mean, updated_sigma = gp.predict(ConnectivitySpace, return_std=True) # comment for now\n",
    "\n",
    "CTrain = randomCVector\n",
    "\n",
    "num_iter = 100\n",
    "\n",
    "for i in range(num_iter):\n",
    "\n",
    "    print(i)\n",
    "    # Predict Y_mean and Y_cov\n",
    "    # y_mean, y_std = gp.predict(ConnectivitySpace, return_std=True)\n",
    "\n",
    "    acquisition_values = expected_improvement(ConnectivitySpace, CTrain, gp)\n",
    "\n",
    "    argmaxes = np.argwhere(acquisition_values == np.amax(acquisition_values))\n",
    "    randargmax = np.atleast_2d(random.choice(argmaxes))\n",
    "    Cnext = np.atleast_2d(ConnectivitySpace[randargmax[0,0],:]) #.T\n",
    "\n",
    "    CTrain = np.vstack((CTrain, Cnext)) #vstack\n",
    "\n",
    "    \n",
    "    # Run the filter and Add the LML to the LogMarginalTrain Vector\n",
    "\n",
    "    CnextReshape = numpy.reshape(Cnext, (10 , 10))\n",
    "    \n",
    "    # Generate M\n",
    "\n",
    "    posterior = (1 / 1024) * np.ones((1, 1024))\n",
    "\n",
    "    M = np.array(np.zeros((1024, 1024)).T)\n",
    "\n",
    "    combs = product(range(2), repeat=10)\n",
    "\n",
    "    numcombs = numpy.array(list(combs))\n",
    "\n",
    "    xnew2 = np.array(np.zeros((10, 1)).T)\n",
    "\n",
    "    for i in range(1024):\n",
    "        xtemp = np.atleast_2d(numcombs[i, :])\n",
    "        xnew2 = 1 * (np.matmul(xtemp, (CnextReshape).T + dna_dsb) > 0)\n",
    "        # print (xnew2)\n",
    "        for t in range(1024):\n",
    "\n",
    "            xtemp2 = np.atleast_2d(numcombs[t, :])\n",
    "\n",
    "            M[t, i] = 1\n",
    "\n",
    "            for k in range(10):\n",
    "\n",
    "                if xtemp2[0, k] == xnew2[0, k]:\n",
    "                    temp1 = 1 - Pvalue\n",
    "                else:\n",
    "                    temp1 = Pvalue\n",
    "\n",
    "                M[t, i] = M[t, i] * temp1\n",
    "\n",
    "    missflag = 0\n",
    "    LogMarginal = 0\n",
    "\n",
    "    for i in range(xycount):\n",
    "\n",
    "        if i in MissingData:\n",
    "\n",
    "            pred_posterior = np.matmul(posterior,M.T)\n",
    "            #pred_posterior = pred_posterior / np.sum(pred_posterior)\n",
    "            #print(np.sum(pred_posterior))\n",
    "            # newstate = (newstate) / (np.sum(newstate))\n",
    "            posterior = pred_posterior\n",
    "            #print(np.sum(posterior))\n",
    "\n",
    "        else:\n",
    "\n",
    "            itemindex = np.array((A == x[i, :]).all(axis=1).nonzero())\n",
    "\n",
    "            #LogMarginalTrain = LogMarginalTrain + np.log10(pred_posterior[0, itemindex])\n",
    "            pred_posterior = np.matmul(posterior, M.T)\n",
    "            #pred_posterior = pred_posterior/np.sum(pred_posterior)\n",
    "            #print(np.sum(pred_posterior))\n",
    "            # newstate = (newstate) / (np.sum(newstate))\n",
    "            LogMarginal = LogMarginal + np.log10(pred_posterior[0, itemindex])\n",
    "            # missflag = 0\n",
    "\n",
    "            posterior = numpy.zeros((1,1024))\n",
    "            posterior[0, itemindex] = 1\n",
    "\n",
    "    LogMarginalTrain = np.vstack((LogMarginalTrain, np.atleast_2d(LogMarginal)))\n",
    "    gp.fit(CTrain, LogMarginalTrain)\n",
    "\n",
    "    # updated_mean, updated_sigma = gp.predict(ConnectivitySpace, return_std=True) # comment for now\n",
    "#Saving the objects:\n",
    "with open('10Gene10UnknownB12100Samples50MissingOnlyBO2.pkl', 'wb') as f:  # Python 3: open(..., 'wb')\n",
    "    pickle.dump([LogMarginalTrain, CTrain], f)\n",
    "\n",
    "end = time()\n",
    "print(f'It took {end - start} seconds!')"
   ]
  },
  {
   "cell_type": "code",
   "execution_count": null,
   "metadata": {},
   "outputs": [],
   "source": []
  }
 ],
 "metadata": {
  "kernelspec": {
   "display_name": "Python 3",
   "language": "python",
   "name": "python3"
  },
  "language_info": {
   "codemirror_mode": {
    "name": "ipython",
    "version": 3
   },
   "file_extension": ".py",
   "mimetype": "text/x-python",
   "name": "python",
   "nbconvert_exporter": "python",
   "pygments_lexer": "ipython3",
   "version": "3.8.1"
  }
 },
 "nbformat": 4,
 "nbformat_minor": 4
}
